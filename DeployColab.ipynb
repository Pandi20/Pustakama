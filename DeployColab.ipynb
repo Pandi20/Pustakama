{
  "nbformat": 4,
  "nbformat_minor": 0,
  "metadata": {
    "colab": {
      "provenance": [],
      "collapsed_sections": [
        "x_NF2QDauAPF",
        "PRaXNju67srs",
        "5uNXxRNa6bI7",
        "sHpDlpAV6bJG",
        "lnIDeqevv2oM",
        "M11gvFWEVZJK",
        "G3no5KKWVZJb"
      ],
      "include_colab_link": true
    },
    "kernelspec": {
      "name": "python3",
      "display_name": "Python 3"
    },
    "language_info": {
      "name": "python"
    }
  },
  "cells": [
    {
      "cell_type": "markdown",
      "metadata": {
        "id": "view-in-github",
        "colab_type": "text"
      },
      "source": [
        "<a href=\"https://colab.research.google.com/github/Pandi20/Pustakama/blob/master/DeployColab.ipynb\" target=\"_parent\"><img src=\"https://colab.research.google.com/assets/colab-badge.svg\" alt=\"Open In Colab\"/></a>"
      ]
    },
    {
      "cell_type": "code",
      "source": [
        "# #Change python version limited to pythn3.7 until latest\n",
        "# !sudo apt-get update -y\n",
        "# !sudo apt-get install python3.11 python3.11-dev python3.11-distutils libpython3.11-dev\n",
        "# #make python3.11 be 1 priority to used\n",
        "# !sudo update-alternatives --install /usr/bin/python3 python3 /usr/bin/python3.11 1\n",
        "# !sudo update-alternatives --config python3\n",
        "\n",
        "#Change python version using miniconda py37=python3.7\n",
        "!wget https://repo.anaconda.com/miniconda/Miniconda3-py37_4.8.2-Linux-x86_64.sh > /dev/null\n",
        "!chmod +x Miniconda3-py37_4.8.2-Linux-x86_64.sh > /dev/null\n",
        "!./Miniconda3-py37_4.8.2-Linux-x86_64.sh -b -f -p /usr/local > /dev/null\n",
        "!python --version"
      ],
      "metadata": {
        "id": "7eOX6KznJ2UH"
      },
      "execution_count": null,
      "outputs": []
    },
    {
      "cell_type": "code",
      "source": [
        "# Add Cloudflare GPG key\n",
        "!mkdir -p --mode=0755 /usr/share/keyrings > /dev/null\n",
        "!curl -fsSL https://pkg.cloudflare.com/cloudflare-main.gpg | sudo tee /usr/share/keyrings/cloudflare-main.gpg > /dev/null\n",
        "# Add this repo to your APT repositories\n",
        "!echo 'deb [signed-by=/usr/share/keyrings/cloudflare-main.gpg] https://pkg.cloudflare.com/cloudflared jammy main' | sudo tee /etc/apt/sources.list.d/cloudflared.list > /dev/null\n",
        "# Update the package list and install cloudflared\n",
        "!sudo apt-get update > /dev/null && sudo apt-get install cloudflared -y > /dev/null\n"
      ],
      "metadata": {
        "id": "5g1i9HNtod0T",
        "colab": {
          "base_uri": "https://localhost:8080/"
        },
        "outputId": "c4609ade-cbde-4795-e3ad-cc20f90d76f2"
      },
      "execution_count": 2,
      "outputs": [
        {
          "output_type": "stream",
          "name": "stdout",
          "text": [
            "debconf: unable to initialize frontend: Dialog\n",
            "debconf: (No usable dialog-like program is installed, so the dialog based frontend cannot be used. at /usr/share/perl5/Debconf/FrontEnd/Dialog.pm line 78, <> line 1.)\n",
            "debconf: falling back to frontend: Readline\n",
            "debconf: unable to initialize frontend: Readline\n",
            "debconf: (This frontend requires a controlling tty.)\n",
            "debconf: falling back to frontend: Teletype\n",
            "dpkg-preconfigure: unable to re-open stdin: \n"
          ]
        }
      ]
    },
    {
      "cell_type": "code",
      "source": [
        "!git clone https://github.com/Pandi20/Pustakama.git\n",
        "%cd Pustakama\n",
        "!pip install -r requirements.txt > /dev/null"
      ],
      "metadata": {
        "id": "OVXrpsQmwDM9",
        "colab": {
          "base_uri": "https://localhost:8080/"
        },
        "outputId": "4fe59cba-8866-44b3-a4b0-7243522cb0dd"
      },
      "execution_count": 7,
      "outputs": [
        {
          "metadata": {
            "tags": null
          },
          "name": "stdout",
          "output_type": "stream",
          "text": [
            "Cloning into 'Pustakama'...\n",
            "remote: Enumerating objects: 438, done.\u001b[K\n",
            "remote: Counting objects: 100% (157/157), done.\u001b[K\n",
            "remote: Compressing objects: 100% (150/150), done.\u001b[K\n",
            "remote: Total 438 (delta 81), reused 0 (delta 0), pack-reused 281\u001b[K\n",
            "Receiving objects: 100% (438/438), 1022.46 KiB | 5.04 MiB/s, done.\n",
            "Resolving deltas: 100% (218/218), done.\n",
            "/content/Pustakama\n"
          ]
        }
      ]
    },
    {
      "cell_type": "code",
      "source": [
        "!python3 ./run.py &>/content/logs.txt &"
      ],
      "metadata": {
        "id": "vuViwF15o_xO"
      },
      "execution_count": 8,
      "outputs": []
    },
    {
      "cell_type": "code",
      "source": [
        "!nohup cloudflared tunnel --url http://localhost:5000 &"
      ],
      "metadata": {
        "id": "FA0TWJmecwC8",
        "colab": {
          "base_uri": "https://localhost:8080/"
        },
        "outputId": "b52a58a6-8283-4ef5-dc5b-acfafb15774c"
      },
      "execution_count": 9,
      "outputs": [
        {
          "output_type": "stream",
          "name": "stdout",
          "text": [
            "nohup: appending output to 'nohup.out'\n"
          ]
        }
      ]
    },
    {
      "cell_type": "code",
      "source": [
        "!grep -o 'https://.*\\.trycloudflare.com' nohup.out | head -n 1 | xargs -I {} echo \"Your tunnel url {}\" && rm nohup.out"
      ],
      "metadata": {
        "id": "SI3sNFWCAdpZ",
        "colab": {
          "base_uri": "https://localhost:8080/"
        },
        "outputId": "605f3213-bba2-4dd9-c6a2-e06d12fda4a1"
      },
      "execution_count": 10,
      "outputs": [
        {
          "output_type": "stream",
          "name": "stdout",
          "text": [
            "Your tunnel url https://statistics-taxi-sox-transport.trycloudflare.com\n"
          ]
        }
      ]
    }
  ]
}