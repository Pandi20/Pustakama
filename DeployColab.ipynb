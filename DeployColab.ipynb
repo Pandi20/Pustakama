{
  "nbformat": 4,
  "nbformat_minor": 0,
  "metadata": {
    "colab": {
      "provenance": [],
      "collapsed_sections": [
        "x_NF2QDauAPF",
        "PRaXNju67srs",
        "5uNXxRNa6bI7",
        "sHpDlpAV6bJG",
        "lnIDeqevv2oM",
        "M11gvFWEVZJK",
        "G3no5KKWVZJb"
      ]
    },
    "kernelspec": {
      "name": "python3",
      "display_name": "Python 3"
    },
    "language_info": {
      "name": "python"
    }
  },
  "cells": [
    {
      "cell_type": "markdown",
      "source": [
        "#Prerequisite\n"
      ],
      "metadata": {
        "id": "x_NF2QDauAPF"
      }
    },
    {
      "cell_type": "code",
      "source": [
        "# #Change python version limited to pythn3.7 until latest\n",
        "# !sudo apt-get update -y\n",
        "# !sudo apt-get install python3.11 python3.11-dev python3.11-distutils libpython3.11-dev\n",
        "# #make python3.11 be 1 priority to used\n",
        "# !sudo update-alternatives --install /usr/bin/python3 python3 /usr/bin/python3.11 1\n",
        "# !sudo update-alternatives --config python3\n",
        "\n",
        "#Change python version using miniconda py37=python3.7\n",
        "!wget https://repo.anaconda.com/miniconda/Miniconda3-py37_4.8.2-Linux-x86_64.sh > /dev/null\n",
        "!chmod +x Miniconda3-py37_4.8.2-Linux-x86_64.sh > /dev/null\n",
        "!./Miniconda3-py37_4.8.2-Linux-x86_64.sh -b -f -p /usr/local > /dev/null\n",
        "!python --version"
      ],
      "metadata": {
        "colab": {
          "base_uri": "https://localhost:8080/"
        },
        "id": "7eOX6KznJ2UH",
        "outputId": "76d6a076-f52e-4921-9f76-10f722ba61b7"
      },
      "execution_count": null,
      "outputs": [
        {
          "output_type": "stream",
          "name": "stdout",
          "text": [
            "--2023-11-22 05:52:18--  https://repo.anaconda.com/miniconda/Miniconda3-py37_4.8.2-Linux-x86_64.sh\n",
            "Resolving repo.anaconda.com (repo.anaconda.com)... 104.16.131.3, 104.16.130.3, 2606:4700::6810:8203, ...\n",
            "Connecting to repo.anaconda.com (repo.anaconda.com)|104.16.131.3|:443... connected.\n",
            "HTTP request sent, awaiting response... 200 OK\n",
            "Length: 85055499 (81M) [application/x-sh]\n",
            "Saving to: ‘Miniconda3-py37_4.8.2-Linux-x86_64.sh’\n",
            "\n",
            "Miniconda3-py37_4.8 100%[===================>]  81.12M   174MB/s    in 0.5s    \n",
            "\n",
            "2023-11-22 05:52:18 (174 MB/s) - ‘Miniconda3-py37_4.8.2-Linux-x86_64.sh’ saved [85055499/85055499]\n",
            "\n",
            "Python 3.7.6\n"
          ]
        }
      ]
    },
    {
      "cell_type": "code",
      "source": [
        "# Add Cloudflare GPG key\n",
        "!mkdir -p --mode=0755 /usr/share/keyrings > /dev/null\n",
        "!curl -fsSL https://pkg.cloudflare.com/cloudflare-main.gpg | sudo tee /usr/share/keyrings/cloudflare-main.gpg > /dev/null\n",
        "# Add this repo to your APT repositories\n",
        "!echo 'deb [signed-by=/usr/share/keyrings/cloudflare-main.gpg] https://pkg.cloudflare.com/cloudflared jammy main' | sudo tee /etc/apt/sources.list.d/cloudflared.list > /dev/null\n",
        "# Update the package list and install cloudflared\n",
        "!sudo apt-get update > /dev/null && sudo apt-get install cloudflared -y > /dev/null\n"
      ],
      "metadata": {
        "id": "5g1i9HNtod0T",
        "colab": {
          "base_uri": "https://localhost:8080/"
        },
        "outputId": "9b21aecf-b7aa-492d-a84d-342a1cdcdbbc"
      },
      "execution_count": null,
      "outputs": [
        {
          "output_type": "stream",
          "name": "stdout",
          "text": [
            "debconf: unable to initialize frontend: Dialog\n",
            "debconf: (No usable dialog-like program is installed, so the dialog based frontend cannot be used. at /usr/share/perl5/Debconf/FrontEnd/Dialog.pm line 78, <> line 1.)\n",
            "debconf: falling back to frontend: Readline\n",
            "debconf: unable to initialize frontend: Readline\n",
            "debconf: (This frontend requires a controlling tty.)\n",
            "debconf: falling back to frontend: Teletype\n",
            "dpkg-preconfigure: unable to re-open stdin: \n"
          ]
        }
      ]
    },
    {
      "cell_type": "markdown",
      "source": [
        "##Configure all dependencies"
      ],
      "metadata": {
        "id": "EwNIU4mRvNJ7"
      }
    },
    {
      "cell_type": "code",
      "source": [
        "!git clone https://github.com/techwithtim/YouTube-Sentiment-Analysis.git > /dev/null"
      ],
      "metadata": {
        "id": "GSsxua8G70is"
      },
      "execution_count": null,
      "outputs": []
    },
    {
      "cell_type": "code",
      "source": [
        "!pip install python-dotenv"
      ],
      "metadata": {
        "id": "gGzZk8-l-B61"
      },
      "execution_count": null,
      "outputs": []
    },
    {
      "cell_type": "code",
      "source": [
        "!pip install -q flask_cors"
      ],
      "metadata": {
        "id": "stiAc1Bn-ty8"
      },
      "execution_count": null,
      "outputs": []
    },
    {
      "cell_type": "code",
      "source": [
        "%cd /content/YouTube-Sentiment-Analysis/app"
      ],
      "metadata": {
        "id": "C4jYnU0H8Dcn"
      },
      "execution_count": null,
      "outputs": []
    },
    {
      "cell_type": "code",
      "source": [
        "!streamlit run /content/app.py &>/content/logs.txt &"
      ],
      "metadata": {
        "id": "JWIumRZ9EIth"
      },
      "execution_count": null,
      "outputs": []
    },
    {
      "cell_type": "markdown",
      "source": [
        "##Run Project"
      ],
      "metadata": {
        "id": "qP99HBZuT61k"
      }
    },
    {
      "cell_type": "code",
      "source": [
        "!python app.py &>/content/logs.txt &"
      ],
      "metadata": {
        "id": "u5koDhtCT61x"
      },
      "execution_count": null,
      "outputs": []
    },
    {
      "cell_type": "code",
      "source": [
        "!nohup cloudflared tunnel --url http://localhost:5000 &"
      ],
      "metadata": {
        "id": "EQdKttLkT61x"
      },
      "execution_count": null,
      "outputs": []
    },
    {
      "cell_type": "code",
      "source": [
        "!grep -o 'https://.*\\.trycloudflare.com' nohup.out | head -n 1 | xargs -I {} echo \"Your tunnel url {}\" && rm nohup.out\n"
      ],
      "metadata": {
        "id": "UQ7flmraT61y"
      },
      "execution_count": null,
      "outputs": []
    },
    {
      "cell_type": "markdown",
      "source": [
        "#Project FLASK Library Management System(sqlite Database)"
      ],
      "metadata": {
        "id": "zdjqhqD9v2n_"
      }
    },
    {
      "cell_type": "markdown",
      "source": [
        "##Configure all dependencies"
      ],
      "metadata": {
        "id": "lnIDeqevv2oM"
      }
    },
    {
      "cell_type": "code",
      "source": [
        "!git clone https://github.com/Pandi20/Pustakama.git\n",
        "%cd Pustakama\n",
        "!pip install -r requirements.txt"
      ],
      "metadata": {
        "id": "OVXrpsQmwDM9",
        "colab": {
          "base_uri": "https://localhost:8080/"
        },
        "outputId": "1c460c6a-e4b3-480e-9b6a-0d4e1d8153b8"
      },
      "execution_count": null,
      "outputs": [
        {
          "output_type": "stream",
          "name": "stdout",
          "text": [
            "Cloning into 'Pustakama'...\n",
            "remote: Enumerating objects: 435, done.\u001b[K\n",
            "remote: Counting objects: 100% (154/154), done.\u001b[K\n",
            "remote: Compressing objects: 100% (147/147), done.\u001b[K\n",
            "remote: Total 435 (delta 80), reused 0 (delta 0), pack-reused 281\u001b[K\n",
            "Receiving objects: 100% (435/435), 1017.36 KiB | 6.17 MiB/s, done.\n",
            "Resolving deltas: 100% (217/217), done.\n",
            "/content/Pustakama\n",
            "Collecting aniso8601==6.0.0\n",
            "  Downloading aniso8601-6.0.0-py2.py3-none-any.whl (41 kB)\n",
            "\u001b[K     |████████████████████████████████| 41 kB 59 kB/s \n",
            "\u001b[?25hCollecting bleach==3.1.4\n",
            "  Downloading bleach-3.1.4-py2.py3-none-any.whl (151 kB)\n",
            "\u001b[K     |████████████████████████████████| 151 kB 19.9 MB/s \n",
            "\u001b[?25hCollecting Click==7.0\n",
            "  Downloading Click-7.0-py2.py3-none-any.whl (81 kB)\n",
            "\u001b[K     |████████████████████████████████| 81 kB 10.0 MB/s \n",
            "\u001b[?25hCollecting dominate==2.3.5\n",
            "  Downloading dominate-2.3.5-py2.py3-none-any.whl (25 kB)\n",
            "Collecting Flask==1.0.2\n",
            "  Downloading Flask-1.0.2-py2.py3-none-any.whl (91 kB)\n",
            "\u001b[K     |████████████████████████████████| 91 kB 12.2 MB/s \n",
            "\u001b[?25hCollecting Flask-Bootstrap==3.3.7.1\n",
            "  Downloading Flask-Bootstrap-3.3.7.1.tar.gz (456 kB)\n",
            "\u001b[K     |████████████████████████████████| 456 kB 44.0 MB/s \n",
            "\u001b[?25hCollecting Flask-Login==0.4.1\n",
            "  Downloading Flask-Login-0.4.1.tar.gz (14 kB)\n",
            "Collecting Flask-PageDown==0.2.2\n",
            "  Downloading Flask_PageDown-0.2.2-py2.py3-none-any.whl (4.1 kB)\n",
            "Collecting Flask-RESTful==0.3.7\n",
            "  Downloading Flask_RESTful-0.3.7-py2.py3-none-any.whl (24 kB)\n",
            "Collecting Flask-SQLAlchemy==2.4.0\n",
            "  Downloading Flask_SQLAlchemy-2.4.0-py2.py3-none-any.whl (17 kB)\n",
            "Collecting Flask-Uploads==0.2.1\n",
            "  Downloading Flask-Uploads-0.2.1.tar.gz (7.6 kB)\n",
            "Collecting Flask-WTF==0.14.2\n",
            "  Downloading Flask_WTF-0.14.2-py2.py3-none-any.whl (14 kB)\n",
            "Collecting html5lib==1.0.1\n",
            "  Downloading html5lib-1.0.1-py2.py3-none-any.whl (117 kB)\n",
            "\u001b[K     |████████████████████████████████| 117 kB 43.2 MB/s \n",
            "\u001b[?25hCollecting itsdangerous==1.1.0\n",
            "  Downloading itsdangerous-1.1.0-py2.py3-none-any.whl (16 kB)\n",
            "Collecting Jinja2==2.11.3\n",
            "  Downloading Jinja2-2.11.3-py2.py3-none-any.whl (125 kB)\n",
            "\u001b[K     |████████████████████████████████| 125 kB 53.0 MB/s \n",
            "\u001b[?25hCollecting Markdown==3.1\n",
            "  Downloading Markdown-3.1-py2.py3-none-any.whl (87 kB)\n",
            "\u001b[K     |████████████████████████████████| 87 kB 7.1 MB/s \n",
            "\u001b[?25hCollecting MarkupSafe==1.1.1\n",
            "  Downloading MarkupSafe-1.1.1-cp37-cp37m-manylinux2010_x86_64.whl (33 kB)\n",
            "Collecting python-dateutil==2.8.0\n",
            "  Downloading python_dateutil-2.8.0-py2.py3-none-any.whl (226 kB)\n",
            "\u001b[K     |████████████████████████████████| 226 kB 20.9 MB/s \n",
            "\u001b[?25hCollecting pytz==2019.1\n",
            "  Downloading pytz-2019.1-py2.py3-none-any.whl (510 kB)\n",
            "\u001b[K     |████████████████████████████████| 510 kB 48.9 MB/s \n",
            "\u001b[?25hCollecting six==1.12.0\n",
            "  Downloading six-1.12.0-py2.py3-none-any.whl (10 kB)\n",
            "Collecting SQLAlchemy==1.3.3\n",
            "  Downloading SQLAlchemy-1.3.3.tar.gz (5.9 MB)\n",
            "\u001b[K     |████████████████████████████████| 5.9 MB 33.5 MB/s \n",
            "\u001b[?25hCollecting visitor==0.1.3\n",
            "  Downloading visitor-0.1.3.tar.gz (3.3 kB)\n",
            "Collecting webencodings==0.5.1\n",
            "  Downloading webencodings-0.5.1-py2.py3-none-any.whl (11 kB)\n",
            "Collecting Werkzeug==0.15.3\n",
            "  Downloading Werkzeug-0.15.3-py2.py3-none-any.whl (327 kB)\n",
            "\u001b[K     |████████████████████████████████| 327 kB 67.5 MB/s \n",
            "\u001b[?25hCollecting WTForms==2.2.1\n",
            "  Downloading WTForms-2.2.1-py2.py3-none-any.whl (166 kB)\n",
            "\u001b[K     |████████████████████████████████| 166 kB 64.0 MB/s \n",
            "\u001b[?25hRequirement already satisfied: setuptools>=36 in /usr/local/lib/python3.7/site-packages (from Markdown==3.1->-r requirements.txt (line 16)) (45.2.0.post20200210)\n",
            "Building wheels for collected packages: Flask-Bootstrap, Flask-Login, Flask-Uploads, SQLAlchemy, visitor\n",
            "  Building wheel for Flask-Bootstrap (setup.py) ... \u001b[?25l\u001b[?25hdone\n",
            "  Created wheel for Flask-Bootstrap: filename=Flask_Bootstrap-3.3.7.1-py3-none-any.whl size=460123 sha256=3be520c8f5abefdd660d45efddeb92ac21e344d08240e5c294ee98185f370156\n",
            "  Stored in directory: /root/.cache/pip/wheels/67/a2/d6/50d039c9b59b4caca6d7b53839c8100354a52ab7553d2456eb\n",
            "  Building wheel for Flask-Login (setup.py) ... \u001b[?25l\u001b[?25hdone\n",
            "  Created wheel for Flask-Login: filename=Flask_Login-0.4.1-py2.py3-none-any.whl size=15935 sha256=7bf5ac9b0a46741456da4df9b7a00a0c66a56d992ea8dee3131506231a4000b0\n",
            "  Stored in directory: /root/.cache/pip/wheels/6b/b8/33/1da5a5d39e093a68d81848aa44fd70e3cd0193e6f2d5641052\n",
            "  Building wheel for Flask-Uploads (setup.py) ... \u001b[?25l\u001b[?25hdone\n",
            "  Created wheel for Flask-Uploads: filename=Flask_Uploads-0.2.1-py3-none-any.whl size=8069 sha256=0ca4e1fef0b7996dde01e593ce4b38f4613c65a843c3ffffed2263cdb862994a\n",
            "  Stored in directory: /root/.cache/pip/wheels/ac/f2/8a/652b34371f02b73cfd18126d14d1c6d31736e6a346c737962b\n",
            "  Building wheel for SQLAlchemy (setup.py) ... \u001b[?25l\u001b[?25hdone\n",
            "  Created wheel for SQLAlchemy: filename=SQLAlchemy-1.3.3-cp37-cp37m-linux_x86_64.whl size=1170844 sha256=ed847bf77a503c18c86b81e233c4c661c3fd1f1f2f75d1525b3e78fd96fd546f\n",
            "  Stored in directory: /root/.cache/pip/wheels/33/68/a5/e7099cc3a176110335d157276d8eb738613a6e86cabbd1d3a5\n",
            "  Building wheel for visitor (setup.py) ... \u001b[?25l\u001b[?25hdone\n",
            "  Created wheel for visitor: filename=visitor-0.1.3-py3-none-any.whl size=3931 sha256=2c4b530be1116ac64dc7f6f9090d7052a0d4a15d2adc431c36f712a71f61470b\n",
            "  Stored in directory: /root/.cache/pip/wheels/64/34/11/053f47218984c9a31a00f911ed98dda036b867481dcc527a12\n",
            "Successfully built Flask-Bootstrap Flask-Login Flask-Uploads SQLAlchemy visitor\n",
            "Installing collected packages: aniso8601, six, webencodings, bleach, Click, dominate, MarkupSafe, Jinja2, Werkzeug, itsdangerous, Flask, visitor, Flask-Bootstrap, Flask-Login, WTForms, Flask-PageDown, pytz, Flask-RESTful, SQLAlchemy, Flask-SQLAlchemy, Flask-Uploads, Flask-WTF, html5lib, Markdown, python-dateutil\n",
            "  Attempting uninstall: six\n",
            "    Found existing installation: six 1.14.0\n",
            "    Uninstalling six-1.14.0:\n",
            "      Successfully uninstalled six-1.14.0\n",
            "Successfully installed Click-7.0 Flask-1.0.2 Flask-Bootstrap-3.3.7.1 Flask-Login-0.4.1 Flask-PageDown-0.2.2 Flask-RESTful-0.3.7 Flask-SQLAlchemy-2.4.0 Flask-Uploads-0.2.1 Flask-WTF-0.14.2 Jinja2-2.11.3 Markdown-3.1 MarkupSafe-1.1.1 SQLAlchemy-1.3.3 WTForms-2.2.1 Werkzeug-0.15.3 aniso8601-6.0.0 bleach-3.1.4 dominate-2.3.5 html5lib-1.0.1 itsdangerous-1.1.0 python-dateutil-2.8.0 pytz-2019.1 six-1.12.0 visitor-0.1.3 webencodings-0.5.1\n"
          ]
        }
      ]
    },
    {
      "cell_type": "markdown",
      "source": [
        "##Run Project"
      ],
      "metadata": {
        "id": "c7e6MHEfv2oQ"
      }
    },
    {
      "cell_type": "code",
      "source": [
        "!python3 ./run.py &>/content/logs.txt &"
      ],
      "metadata": {
        "id": "vuViwF15o_xO"
      },
      "execution_count": null,
      "outputs": []
    },
    {
      "cell_type": "code",
      "source": [
        "!nohup cloudflared tunnel --url http://localhost:5000 &"
      ],
      "metadata": {
        "id": "FA0TWJmecwC8",
        "colab": {
          "base_uri": "https://localhost:8080/"
        },
        "outputId": "5d94e94e-caa1-4a10-a212-786a2a473112"
      },
      "execution_count": null,
      "outputs": [
        {
          "output_type": "stream",
          "name": "stdout",
          "text": [
            "nohup: appending output to 'nohup.out'\n"
          ]
        }
      ]
    },
    {
      "cell_type": "code",
      "source": [
        "!grep -o 'https://.*\\.trycloudflare.com' nohup.out | head -n 1 | xargs -I {} echo \"Your tunnel url {}\" && rm nohup.out"
      ],
      "metadata": {
        "id": "SI3sNFWCAdpZ",
        "colab": {
          "base_uri": "https://localhost:8080/"
        },
        "outputId": "571b378b-8cf4-4bda-a651-247cac0aba27"
      },
      "execution_count": null,
      "outputs": [
        {
          "output_type": "stream",
          "name": "stdout",
          "text": [
            "Your tunnel url https://order-relevance-opinion-socks.trycloudflare.com\n"
          ]
        }
      ]
    },
    {
      "cell_type": "markdown",
      "source": [
        "#Tunelling Debuging"
      ],
      "metadata": {
        "id": "Vu567dbcByuR"
      }
    },
    {
      "cell_type": "code",
      "source": [
        "!ls"
      ],
      "metadata": {
        "colab": {
          "base_uri": "https://localhost:8080/"
        },
        "id": "0092lfI3EXDF",
        "outputId": "4a0a6171-3245-4ddf-ebc2-5c4f2ff0d94c"
      },
      "execution_count": null,
      "outputs": [
        {
          "output_type": "stream",
          "name": "stdout",
          "text": [
            "app  app.db  config.py\tDockerfile  LICENSE  __pycache__  README.md  requirements.txt  run.py\n"
          ]
        }
      ]
    },
    {
      "cell_type": "code",
      "source": [
        "!lsof -i :5000"
      ],
      "metadata": {
        "id": "-GVgI8a2CYjT",
        "colab": {
          "base_uri": "https://localhost:8080/"
        },
        "outputId": "1b87d738-510b-4d12-8518-b3f1984c00d0"
      },
      "execution_count": null,
      "outputs": [
        {
          "output_type": "stream",
          "name": "stdout",
          "text": [
            "COMMAND  PID USER   FD   TYPE DEVICE SIZE/OFF NODE NAME\n",
            "python3 1865 root    4u  IPv4  57132      0t0  TCP *:5000 (LISTEN)\n",
            "python3 1874 root    4u  IPv4  57132      0t0  TCP *:5000 (LISTEN)\n",
            "python3 1874 root    5u  IPv4  57132      0t0  TCP *:5000 (LISTEN)\n"
          ]
        }
      ]
    },
    {
      "cell_type": "code",
      "source": [
        "!kill 22309"
      ],
      "metadata": {
        "id": "3OfJh9V1C_a4"
      },
      "execution_count": null,
      "outputs": []
    }
  ]
}